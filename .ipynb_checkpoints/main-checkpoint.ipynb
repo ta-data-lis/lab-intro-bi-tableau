{
 "cells": [
  {
   "cell_type": "code",
   "execution_count": 1,
   "id": "8986e411",
   "metadata": {},
   "outputs": [
    {
     "data": {
      "text/plain": [
       "'https://public.tableau.com/views/lab-intro-bi-tableau_16523772065270/AverageWarehouseSalesbyYearMonth2?:language=en-US&publish=yes&:display_count=n&:origin=viz_share_link'"
      ]
     },
     "execution_count": 1,
     "metadata": {},
     "output_type": "execute_result"
    }
   ],
   "source": [
    "#Link to Tablau - Lab Francisco Barreto\n",
    "\"https://public.tableau.com/views/lab-intro-bi-tableau_16523772065270/AverageWarehouseSalesbyYearMonth2?:language=en-US&publish=yes&:display_count=n&:origin=viz_share_link\""
   ]
  },
  {
   "cell_type": "code",
   "execution_count": null,
   "id": "4215db23",
   "metadata": {},
   "outputs": [],
   "source": []
  }
 ],
 "metadata": {
  "kernelspec": {
   "display_name": "Python 3 (ipykernel)",
   "language": "python",
   "name": "python3"
  },
  "language_info": {
   "codemirror_mode": {
    "name": "ipython",
    "version": 3
   },
   "file_extension": ".py",
   "mimetype": "text/x-python",
   "name": "python",
   "nbconvert_exporter": "python",
   "pygments_lexer": "ipython3",
   "version": "3.9.7"
  }
 },
 "nbformat": 4,
 "nbformat_minor": 5
}
